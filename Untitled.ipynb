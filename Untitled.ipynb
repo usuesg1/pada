{
 "cells": [
  {
   "cell_type": "markdown",
   "id": "a97b1696",
   "metadata": {},
   "source": [
    "서울시 거처 종류별 1인 가구의 수 와 5대 범죄 발생 현황의 상관관계"
   ]
  },
  {
   "cell_type": "code",
   "execution_count": null,
   "id": "9025e7e2",
   "metadata": {},
   "outputs": [],
   "source": []
  }
 ],
 "metadata": {
  "kernelspec": {
   "display_name": "Python 3 (ipykernel)",
   "language": "python",
   "name": "python3"
  },
  "language_info": {
   "codemirror_mode": {
    "name": "ipython",
    "version": 3
   },
   "file_extension": ".py",
   "mimetype": "text/x-python",
   "name": "python",
   "nbconvert_exporter": "python",
   "pygments_lexer": "ipython3",
   "version": "3.9.13"
  }
 },
 "nbformat": 4,
 "nbformat_minor": 5
}
